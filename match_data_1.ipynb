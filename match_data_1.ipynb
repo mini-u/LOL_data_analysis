{
 "cells": [
  {
   "cell_type": "markdown",
   "metadata": {},
   "source": [
    "Data analysis with League of Legend API"
   ]
  },
  {
   "cell_type": "code",
   "execution_count": null,
   "metadata": {},
   "outputs": [],
   "source": [
    "import os\n",
    "import requests\n",
    "from dotenv import load_dotenv\n",
    "\n",
    "load_dotenv() \n",
    "\n",
    "riot_token = os.getenv(\"RIOT_API_KEY\")\n",
    "riot_id = os.getenv(\"RIOT_ID\") \n",
    "riot_tag = os.getenv(\"RIOT_TAG\")\n",
    "\n",
    "request_url = f\"https://asia.api.riotgames.com/riot/account/v1/accounts/by-riot-id/{riot_id}/{riot_tag}\"\n",
    "headers = {\n",
    "    \"User-Agent\": \"Mozilla/5.0\",\n",
    "    \"X-Riot-Token\": riot_token\n",
    "}\n",
    "\n",
    "response = requests.get(request_url, headers=headers)\n",
    "result = response.json()\n",
    "puuid = result['puuid']\n"
   ]
  }
 ],
 "metadata": {
  "kernelspec": {
   "display_name": "base",
   "language": "python",
   "name": "python3"
  },
  "language_info": {
   "codemirror_mode": {
    "name": "ipython",
    "version": 3
   },
   "file_extension": ".py",
   "mimetype": "text/x-python",
   "name": "python",
   "nbconvert_exporter": "python",
   "pygments_lexer": "ipython3",
   "version": "3.11.7"
  }
 },
 "nbformat": 4,
 "nbformat_minor": 2
}
